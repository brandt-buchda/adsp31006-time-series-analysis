{
 "cells": [
  {
   "cell_type": "code",
   "execution_count": null,
   "metadata": {
    "colab": {
     "base_uri": "https://localhost:8080/"
    },
    "executionInfo": {
     "elapsed": 18327,
     "status": "ok",
     "timestamp": 1739241009202,
     "user": {
      "displayName": "Alvin Yao",
      "userId": "05504232282567936452"
     },
     "user_tz": 360
    },
    "id": "_cQ-R99S7lTM",
    "outputId": "2655def1-69ab-4b6c-f98d-c63eab47cf33"
   },
   "outputs": [],
   "source": [
    "!pip install netCDF4 h5netcdf h5py xarray --upgrade"
   ]
  },
  {
   "cell_type": "code",
   "execution_count": null,
   "metadata": {
    "id": "ZefaTB3E7L3H"
   },
   "outputs": [],
   "source": [
    "# from google.colab import drive\n",
    "import xarray as xr\n",
    "\n",
    "# Mount Google Drive\n",
    "# drive.mount('/content/drive')\n",
    "\n",
    "# Path to the merged dataset\n",
    "# file_path = \"oisst_california_1981_2025.nc\"\n",
    "file_path = \"./content/merged.nc\"\n",
    "\n",
    "# Open dataset using xarray\n",
    "ds = xr.open_dataset(file_path, engine=\"netcdf4\")\n",
    "\n",
    "# Show dataset metadata\n",
    "print(ds)\n"
   ]
  },
  {
   "cell_type": "code",
   "execution_count": null,
   "metadata": {
    "id": "7HhrIH2_7O1l"
   },
   "outputs": [],
   "source": [
    "import matplotlib.pyplot as plt\n",
    "\n",
    "# Select one date to plot\n",
    "single_day = ds.sst.sel(time=\"2020-06-01\")\n",
    "\n",
    "# Create plot\n",
    "plt.figure(figsize=(10, 6))\n",
    "single_day.plot(cmap=\"coolwarm\")\n",
    "\n",
    "# Customize title\n",
    "plt.title(\"Sea Surface Temperature (SST) - June 1, 2020\")\n",
    "plt.show()\n"
   ]
  },
  {
   "cell_type": "code",
   "execution_count": null,
   "metadata": {},
   "outputs": [],
   "source": [
    "import matplotlib.pyplot as plt\n",
    "import numpy as np\n",
    "import xarray as xr\n",
    "import imageio.v2 as imageio\n",
    "import os\n",
    "\n",
    "# Assuming `ds.sst` is your dataset and `time` is your time dimension\n",
    "sst = ds.sst\n",
    "time_steps = sst.time.values  # Get all time steps\n",
    "\n",
    "# Determine global min/max for consistent color scale\n",
    "vmin, vmax = sst.min().item(), sst.max().item()\n",
    "\n",
    "# Create directory to save frames\n",
    "os.makedirs(\"sst_frames\", exist_ok=True)\n",
    "\n",
    "# Generate images for each time step\n",
    "image_files = []\n",
    "for i, time in enumerate(time_steps):\n",
    "    plt.figure(figsize=(10, 6))\n",
    "    sst.sel(time=time).plot(cmap=\"coolwarm\", vmin=vmin, vmax=vmax)  # Consistent scale\n",
    "    plt.title(f\"Sea Surface Temperature (SST) - {str(time)[:10]}\")\n",
    "\n",
    "    frame_filename = f\"sst_frames/frame_{i:03d}.png\"\n",
    "    plt.savefig(frame_filename)\n",
    "    plt.close()\n",
    "    image_files.append(frame_filename)\n",
    "\n",
    "# Create a GIF from the images\n",
    "gif_filename = \"sst_animation.gif\"\n",
    "with imageio.get_writer(gif_filename, mode=\"I\", duration=0.5) as writer:\n",
    "    for file in image_files:\n",
    "        image = imageio.imread(file)\n",
    "        writer.append_data(image)\n",
    "\n",
    "print(f\"GIF saved as {gif_filename}\")\n"
   ]
  },
  {
   "cell_type": "code",
   "execution_count": null,
   "metadata": {},
   "outputs": [],
   "source": [
    "import matplotlib.pyplot as plt\n",
    "import imageio.v2 as imageio\n",
    "import os\n",
    "import numpy as np\n",
    "\n",
    "# Initialize an array to store the maximum SST at each point (starting with -infinity)\n",
    "sst_max_updated = np.full_like(ds.sst[0].values, -np.inf)\n",
    "\n",
    "# Create directory to save frames\n",
    "os.makedirs(\"sst_max_frames\", exist_ok=True)\n",
    "\n",
    "# Generate images for each time step\n",
    "image_files = []\n",
    "for i, time in enumerate(ds.sst.time.values):\n",
    "    # Get the current SST for this time step and ensure we are working with a 2D array\n",
    "    current_sst = ds.sst.sel(time=time).values\n",
    "\n",
    "    # Update the maximum SST at each grid point\n",
    "    sst_max_updated = np.maximum(sst_max_updated, current_sst)\n",
    "\n",
    "    # Create a plot for the current state of maximum SST\n",
    "    plt.figure(figsize=(10, 6))\n",
    "    plt.imshow(sst_max_updated, cmap=\"inferno\", origin=\"lower\")\n",
    "    plt.colorbar(label=\"Max SST (°C)\")\n",
    "    plt.title(f\"Maximum SST Ever Recorded - {str(time)[:10]}\")\n",
    "\n",
    "    # Save the frame\n",
    "    frame_filename = f\"sst_max_frames/frame_{i:03d}.png\"\n",
    "    plt.savefig(frame_filename)\n",
    "    plt.close()\n",
    "    image_files.append(frame_filename)\n",
    "\n",
    "# Create a GIF from the images\n",
    "gif_filename = \"sst_max_evolution.gif\"\n",
    "with imageio.get_writer(gif_filename, mode=\"I\", duration=0.5) as writer:\n",
    "    for file in image_files:\n",
    "        image = imageio.imread(file)\n",
    "        writer.append_data(image)\n",
    "\n",
    "print(f\"GIF saved as {gif_filename}\")\n"
   ]
  },
  {
   "cell_type": "code",
   "execution_count": null,
   "metadata": {},
   "outputs": [],
   "source": [
    "# Print the time index of the dataset\n",
    "print(ds['time'])\n",
    "\n",
    "# Print the first few rows of the dataset to see the time values and data\n",
    "print(ds.head())\n",
    "\n",
    "# If you're still seeing issues, you can also inspect the data types\n",
    "print(ds.dtypes)\n"
   ]
  },
  {
   "cell_type": "code",
   "execution_count": null,
   "metadata": {},
   "outputs": [],
   "source": [
    "import pandas as pd\n",
    "\n",
    "# Make sure 'time' is in datetime format\n",
    "import xarray as xr\n",
    "\n",
    "# Sort the dataset by the 'time' dimension\n",
    "ds = ds.sortby('time')\n",
    "\n",
    "# Interpolate along the 'time' dimension\n",
    "ds = ds.interpolate_na(dim='time', method='linear')\n",
    "\n",
    "# Resample to a regular frequency (e.g., monthly 'MS' for month start)\n",
    "ds_resampled = ds.resample(time='1MS').mean()  # or use another aggregation function like .mean(), .sum(), etc.\n",
    "\n",
    "\n",
    "# Resample the dataset to monthly frequency and compute the mean for each month\n",
    "# monthly_ds = ds.resample(time='1MS').mean()\n",
    "\n",
    "# # Now, 'monthly_ds' contains the monthly averaged data\n",
    "# print(monthly_ds)"
   ]
  },
  {
   "cell_type": "code",
   "execution_count": null,
   "metadata": {
    "id": "UnveIbgw72Iw"
   },
   "outputs": [],
   "source": [
    "# Compute spatial mean SST over entire region\n",
    "sst_mean = ds_resampled.sst.mean(dim=[\"lat\", \"lon\"])\n",
    "\n",
    "# Plot time series\n",
    "plt.figure(figsize=(12, 6))\n",
    "sst_mean.plot()\n",
    "\n",
    "# Customize title\n",
    "plt.title(\"Average Sea Surface Temperature (SST) Over Time (1981-2025)\")\n",
    "plt.ylabel(\"SST (°C)\")\n",
    "plt.xlabel(\"Time\")\n",
    "plt.grid()\n",
    "plt.show()\n"
   ]
  },
  {
   "cell_type": "code",
   "execution_count": null,
   "metadata": {
    "id": "2qop764m76tA"
   },
   "outputs": [],
   "source": [
    "sst_mean.to_dataframe().to_csv(\"avg_sst_california.csv\", index=False)"
   ]
  }
 ],
 "metadata": {
  "colab": {
   "provenance": [],
   "toc_visible": true
  },
  "kernelspec": {
   "display_name": "Python 3 (ipykernel)",
   "language": "python",
   "name": "python3"
  },
  "language_info": {
   "name": "python"
  }
 },
 "nbformat": 4,
 "nbformat_minor": 0
}
